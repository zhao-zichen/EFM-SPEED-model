{
 "cells": [
  {
   "cell_type": "code",
   "execution_count": 1,
   "metadata": {},
   "outputs": [],
   "source": [
    "import os\n",
    "os.environ['CUDA_VISIBLE_DEVICES'] = '0'"
   ]
  },
  {
   "cell_type": "code",
   "execution_count": 26,
   "metadata": {},
   "outputs": [],
   "source": [
    "import numpy as np\n",
    "import matplotlib.pyplot as plt\n",
    "import time\n",
    "import h5py\n",
    "import tensorflow as tf\n",
    "from tensorflow.keras.layers import Dense, Input,Flatten, AveragePooling2D, UpSampling2D, Reshape, Dropout,Conv2D\n",
    "from tensorflow.keras import Sequential,layers,Model\n",
    "from tensorflow.keras.optimizers import Adam\n",
    "import seaborn as sns\n",
    "from tensorflow import keras"
   ]
  },
  {
   "cell_type": "code",
   "execution_count": 17,
   "metadata": {},
   "outputs": [],
   "source": [
    "images = np.load(r'./img_nn.npy')"
   ]
  },
  {
   "cell_type": "code",
   "execution_count": 18,
   "metadata": {},
   "outputs": [
    {
     "data": {
      "text/plain": [
       "(73, 150, 600, 180)"
      ]
     },
     "execution_count": 18,
     "metadata": {},
     "output_type": "execute_result"
    }
   ],
   "source": [
    "images.shape"
   ]
  },
  {
   "cell_type": "code",
   "execution_count": 19,
   "metadata": {},
   "outputs": [],
   "source": [
    "dt = 0.02\n",
    "dx = 0.1\n",
    "dy = 0.1\n",
    "D = 1"
   ]
  },
  {
   "cell_type": "code",
   "execution_count": 20,
   "metadata": {},
   "outputs": [],
   "source": [
    "import cv2"
   ]
  },
  {
   "cell_type": "code",
   "execution_count": 7,
   "metadata": {},
   "outputs": [],
   "source": [
    "input_ = images[:,:99,:,:].reshape((-1,600,180,1))/255.0"
   ]
  },
  {
   "cell_type": "code",
   "execution_count": 8,
   "metadata": {},
   "outputs": [],
   "source": [
    "output_ = images[:,1:100].reshape((-1,600,180,1))/255.0"
   ]
  },
  {
   "cell_type": "code",
   "execution_count": 9,
   "metadata": {},
   "outputs": [
    {
     "data": {
      "text/plain": [
       "(7227, 600, 180, 1)"
      ]
     },
     "execution_count": 9,
     "metadata": {},
     "output_type": "execute_result"
    }
   ],
   "source": [
    "output_.shape"
   ]
  },
  {
   "cell_type": "code",
   "execution_count": 10,
   "metadata": {},
   "outputs": [],
   "source": [
    "input3 = np.zeros((7227,1))"
   ]
  },
  {
   "cell_type": "code",
   "execution_count": 11,
   "metadata": {},
   "outputs": [],
   "source": [
    "def xx_filter(shape, dtype=None):\n",
    "\n",
    "    f = np.array([\n",
    "            [[[0]], [[0]], [[0]]],\n",
    "            [[[1]], [[-2]], [[1]]],\n",
    "            [[[0]], [[0]], [[0]]]\n",
    "        ])\n",
    "    return tf.constant(f,dtype='float32')\n",
    "#     assert f.shape == shape\n",
    "#     return K.variable(f, dtype='float32')\n",
    "\n",
    "def yy_filter(shape, dtype=None):\n",
    "\n",
    "    f = np.array([\n",
    "            [[[0]], [[1]], [[0]]],\n",
    "            [[[0]], [[-2]], [[0]]],\n",
    "            [[[0]], [[1]], [[0]]]\n",
    "        ])\n",
    "    return tf.constant(f, dtype='float32')"
   ]
  },
  {
   "cell_type": "code",
   "execution_count": 12,
   "metadata": {},
   "outputs": [],
   "source": [
    "def bulid_xx_derivate(dx):\n",
    "    input_tensor = Input(shape=(600,180,1))\n",
    "\n",
    "    x = layers.Conv2D(filters=1, \n",
    "                      kernel_size = 3,\n",
    "                      kernel_initializer=xx_filter,\n",
    "                      strides=1, \n",
    "                      padding='same') (input_tensor)\n",
    "    \n",
    "  \n",
    "\n",
    "    model = Model(inputs=input_tensor, outputs=dt*x/(dx**2))\n",
    "    return model\n",
    "\n",
    "def bulid_yy_derivate(dy):\n",
    "    input_tensor = Input(shape=(600,180,1))\n",
    "\n",
    "    y = layers.Conv2D(filters=1, \n",
    "                      kernel_size = 3,\n",
    "                      kernel_initializer=yy_filter,\n",
    "                      strides=1, \n",
    "                      padding='same') (input_tensor)\n",
    "    \n",
    "\n",
    "\n",
    "    model = Model(inputs=input_tensor, outputs=dt* y/(dy**2))\n",
    "    return model"
   ]
  },
  {
   "cell_type": "code",
   "execution_count": null,
   "metadata": {},
   "outputs": [],
   "source": []
  },
  {
   "cell_type": "code",
   "execution_count": 27,
   "metadata": {},
   "outputs": [],
   "source": [
    "inputs1 = Input(shape=(600,180,1))\n",
    "\n",
    "inputs3 = Input(shape=(1))\n",
    "\n",
    "point_wise_model = Sequential()\n",
    "point_wise_model.add(Dense(16,input_shape=(1, )))\n",
    "point_wise_model.add(Dense(16,activation='relu'))\n",
    "point_wise_model.add(Dense(1))\n",
    "\n",
    "\n",
    "diffusion_model = Sequential()\n",
    "diffusion_model.add(Dense(16,input_shape=(1,),activation='relu'))\n",
    "diffusion_model.add(Dense(1,activation='sigmoid'))\n",
    "\n",
    "model_xx = bulid_xx_derivate(dx)\n",
    "model_yy = bulid_yy_derivate(dy)\n",
    "\n",
    "\n",
    "    \n",
    "model_xx.layers[1].trainable = False\n",
    "model_yy.layers[1].trainable = False\n",
    "\n",
    "xx_derivate = model_xx(inputs1)\n",
    "yy_derivate = model_yy(inputs1)\n",
    "\n",
    "lap = xx_derivate+yy_derivate\n",
    "\n",
    "\n",
    "\n",
    "\n",
    "model = Sequential()\n",
    "\n",
    "R1 = layers.Lambda(lambda x: dt*x*(1-x))(inputs1)\n",
    "\n",
    "\n",
    "D1 = 0.0035*diffusion_model(inputs3)\n",
    "\n",
    "\n",
    "D3 = layers.Multiply()([D1,lap])\n",
    "\n",
    "\n",
    "\n",
    "#batch_size, dim1,dim2,dim3 = tf.shape(inputs1)\n",
    "#flat_inputs = tf.reshape(inputs1, shape=(batch_size * dim1*dim2, 1))\n",
    "flat_inputs = tf.reshape(inputs1, shape=(-1, 1))\n",
    "flat_outputs = point_wise_model(flat_inputs)\n",
    "R2 = tf.reshape(flat_outputs, shape=(-1,600,180,1))\n",
    "\n",
    "R3 = layers.Multiply()([R1, R2])\n",
    "\n",
    "\n",
    "outputs = layers.Add()([R3, D3, inputs1])"
   ]
  },
  {
   "cell_type": "code",
   "execution_count": null,
   "metadata": {},
   "outputs": [],
   "source": []
  },
  {
   "cell_type": "code",
   "execution_count": null,
   "metadata": {},
   "outputs": [],
   "source": []
  },
  {
   "cell_type": "code",
   "execution_count": 28,
   "metadata": {},
   "outputs": [],
   "source": [
    "model = Model(inputs=[inputs1, inputs3], outputs=[outputs])"
   ]
  },
  {
   "cell_type": "code",
   "execution_count": 29,
   "metadata": {},
   "outputs": [
    {
     "name": "stdout",
     "output_type": "stream",
     "text": [
      "WARNING:tensorflow:No training configuration found in save file, so the model was *not* compiled. Compile it manually.\n"
     ]
    }
   ],
   "source": [
    "pp1 = keras.models.load_model(\"pointwise/p1\")"
   ]
  },
  {
   "cell_type": "code",
   "execution_count": 30,
   "metadata": {},
   "outputs": [],
   "source": [
    "pw = pp1.get_weights()"
   ]
  },
  {
   "cell_type": "code",
   "execution_count": 31,
   "metadata": {},
   "outputs": [],
   "source": [
    "model.layers[3].set_weights(pw) "
   ]
  },
  {
   "cell_type": "code",
   "execution_count": null,
   "metadata": {},
   "outputs": [],
   "source": []
  },
  {
   "cell_type": "code",
   "execution_count": null,
   "metadata": {},
   "outputs": [],
   "source": []
  },
  {
   "cell_type": "code",
   "execution_count": 32,
   "metadata": {},
   "outputs": [],
   "source": [
    "model.compile(loss='mse',\n",
    "              optimizer=Adam(learning_rate=0.001),\n",
    "              metrics=['mae'])\n",
    "            "
   ]
  },
  {
   "cell_type": "code",
   "execution_count": 33,
   "metadata": {
    "scrolled": true
   },
   "outputs": [
    {
     "name": "stdout",
     "output_type": "stream",
     "text": [
      "10/10 [==============================] - 43s 4s/step - loss: 0.0010 - mae: 0.0062 - val_loss: 8.2938e-04 - val_mae: 0.0051\n"
     ]
    }
   ],
   "source": [
    "history = model.fit([input_,input3], output_,\n",
    "                    batch_size=512,\n",
    "                    epochs=1,\n",
    "                    validation_split=0.3)\n"
   ]
  },
  {
   "cell_type": "code",
   "execution_count": 34,
   "metadata": {},
   "outputs": [
    {
     "data": {
      "text/plain": [
       "array([[0.5473964]], dtype=float32)"
      ]
     },
     "execution_count": 34,
     "metadata": {},
     "output_type": "execute_result"
    }
   ],
   "source": [
    "diffusion_model.predict((1,))"
   ]
  },
  {
   "cell_type": "code",
   "execution_count": 35,
   "metadata": {},
   "outputs": [
    {
     "data": {
      "text/plain": [
       "Text(0, 0.5, 'potential V(u)')"
      ]
     },
     "execution_count": 35,
     "metadata": {},
     "output_type": "execute_result"
    },
    {
     "data": {
      "image/png": "[encoded data removed]",
      "text/plain": [
       "<Figure size 432x288 with 1 Axes>"
      ]
     },
     "metadata": {
      "needs_background": "light"
     },
     "output_type": "display_data"
    }
   ],
   "source": [
    "u = np.linspace(0,1,100)\n",
    "\n",
    "reaction = point_wise_model.predict(u).reshape(u.shape[0])*dt*(-u)*(1-u)\n",
    "\n",
    "reaction_integral = np.zeros_like(reaction)\n",
    "\n",
    "for i in range(100):\n",
    "    reaction_integral[i] = np.sum(reaction[0:i])\n",
    "    \n",
    "plt.plot(u,reaction_integral)\n",
    "\n",
    "plt.ylabel('potential V(u)')"
   ]
  },
  {
   "cell_type": "code",
   "execution_count": 36,
   "metadata": {},
   "outputs": [
    {
     "data": {
      "text/plain": [
       "Text(0, 0.5, 'potential V(u)')"
      ]
     },
     "execution_count": 36,
     "metadata": {},
     "output_type": "execute_result"
    },
    {
     "data": {
      "image/png": "[encoded data removed]",
      "text/plain": [
       "<Figure size 432x288 with 1 Axes>"
      ]
     },
     "metadata": {
      "needs_background": "light"
     },
     "output_type": "display_data"
    }
   ],
   "source": [
    "reaction = point_wise_model.predict(u).reshape(u.shape[0])*dt*(-u)*(1-u)\n",
    "plt.plot(u,reaction)\n",
    "\n",
    "plt.ylabel('potential V(u)')"
   ]
  },
  {
   "cell_type": "code",
   "execution_count": 37,
   "metadata": {},
   "outputs": [],
   "source": [
    "def pde_pred(model,u):\n",
    "    u1 = 1\n",
    "    u1 = np.array(u1)\n",
    "    u1 = u1.reshape((1,1))\n",
    "    udt = model.predict([u,u1])\n",
    "    return udt\n",
    "    \n",
    "def pred(model,u,n):\n",
    "    for i in range(n):\n",
    "        u = pde_pred(model,u)\n",
    "    return u"
   ]
  },
  {
   "cell_type": "code",
   "execution_count": 38,
   "metadata": {},
   "outputs": [],
   "source": [
    "def plot_images(*images):\n",
    "    fig, ax = plt.subplots(1, len(images), figsize=(3*len(images), 4))\n",
    "    for a, i in zip(ax, images):\n",
    "        im = a.imshow(np.squeeze(i), vmin=0, vmax=1)\n",
    "        a.axis('off')\n",
    "        #fig.colorbar(im, ax=a)\n",
    "       # a.set_xlim([0, 180])\n",
    "       # a.set_ylim([600, 0])"
   ]
  },
  {
   "cell_type": "code",
   "execution_count": null,
   "metadata": {},
   "outputs": [],
   "source": []
  },
  {
   "cell_type": "code",
   "execution_count": null,
   "metadata": {},
   "outputs": [],
   "source": []
  },
  {
   "cell_type": "code",
   "execution_count": null,
   "metadata": {},
   "outputs": [],
   "source": [
    "ncuts = 20\n",
    "cut = images[ncuts,0,:,:].reshape((1,600,180,1))/255.0\n",
    "\n",
    "plot_images(cut,images[ncuts,20,:,:]/255.0,images[ncuts,40,:,:]/255.0,images[ncuts,60,:,:]/255.0,images[ncuts,80,:,:]/255.0,images[ncuts,100,:,:]/255.0,images[ncuts,120,:,:]/255.0)        \n",
    "\n",
    "plot_images(cut,pred(model,cut,20),pred(model,cut,40),pred(model,cut,60),pred(model,cut,80),pred(model,cut,100),pred(model,cut,120))\n"
   ]
  },
  {
   "cell_type": "code",
   "execution_count": null,
   "metadata": {},
   "outputs": [],
   "source": [
    "ncuts = 13\n",
    "cut = images[ncuts,0,:,:].reshape((1,600,180,1))/255.0\n",
    "\n",
    "plot_images(cut,images[ncuts,20,:,:]/255.0,images[ncuts,40,:,:]/255.0,images[ncuts,60,:,:]/255.0,images[ncuts,80,:,:]/255.0,images[ncuts,100,:,:]/255.0,images[ncuts,120,:,:]/255.0)        \n",
    "\n",
    "plot_images(cut,pred(model,cut,20),pred(model,cut,40),pred(model,cut,60),pred(model,cut,80),pred(model,cut,100),pred(model,cut,120))\n"
   ]
  },
  {
   "cell_type": "code",
   "execution_count": null,
   "metadata": {},
   "outputs": [],
   "source": [
    "ncuts = 67\n",
    "cut = images[ncuts,0,:,:].reshape((1,600,180,1))/255.0\n",
    "\n",
    "plot_images(cut,images[ncuts,20,:,:]/255.0,images[ncuts,40,:,:]/255.0,images[ncuts,60,:,:]/255.0,images[ncuts,80,:,:]/255.0,images[ncuts,100,:,:]/255.0,images[ncuts,120,:,:]/255.0)        \n",
    "\n",
    "plot_images(cut,pred(model,cut,20),pred(model,cut,40),pred(model,cut,60),pred(model,cut,80),pred(model,cut,100),pred(model,cut,120))\n"
   ]
  },
  {
   "cell_type": "code",
   "execution_count": null,
   "metadata": {},
   "outputs": [],
   "source": [
    "ncuts = 65\n",
    "cut = images[ncuts,0,:,:].reshape((1,600,180,1))/255.0\n",
    "\n",
    "plot_images(cut,images[ncuts,20,:,:]/255.0,images[ncuts,40,:,:]/255.0,images[ncuts,60,:,:]/255.0,images[ncuts,80,:,:]/255.0,images[ncuts,100,:,:]/255.0,images[ncuts,120,:,:]/255.0)        \n",
    "\n",
    "plot_images(cut,pred(model,cut,20),pred(model,cut,40),pred(model,cut,60),pred(model,cut,80),pred(model,cut,100),pred(model,cut,120))\n"
   ]
  },
  {
   "cell_type": "code",
   "execution_count": null,
   "metadata": {},
   "outputs": [],
   "source": [
    "ncuts = 45\n",
    "cut = images[ncuts,0,:,:].reshape((1,600,180,1))/255.0\n",
    "\n",
    "plot_images(cut,images[ncuts,20,:,:]/255.0,images[ncuts,40,:,:]/255.0,images[ncuts,60,:,:]/255.0,images[ncuts,80,:,:]/255.0,images[ncuts,100,:,:]/255.0,images[ncuts,120,:,:]/255.0)        \n",
    "\n",
    "plot_images(cut,pred(model,cut,20),pred(model,cut,40),pred(model,cut,60),pred(model,cut,80),pred(model,cut,100),pred(model,cut,120))\n"
   ]
  },
  {
   "cell_type": "code",
   "execution_count": null,
   "metadata": {},
   "outputs": [],
   "source": [
    "ncuts = 36\n",
    "cut = images[ncuts,0,:,:].reshape((1,600,180,1))/255.0\n",
    "\n",
    "plot_images(cut,images[ncuts,20,:,:]/255.0,images[ncuts,40,:,:]/255.0,images[ncuts,60,:,:]/255.0,images[ncuts,80,:,:]/255.0,images[ncuts,100,:,:]/255.0,images[ncuts,120,:,:]/255.0)        \n",
    "\n",
    "plot_images(cut,pred(model,cut,20),pred(model,cut,40),pred(model,cut,60),pred(model,cut,80),pred(model,cut,100),pred(model,cut,120))\n"
   ]
  }
 ],
 "metadata": {
  "kernelspec": {
   "display_name": "Python 3.6.10 64-bit ('tf1': conda)",
   "language": "python",
   "name": "python361064bittf1condafd7edf3549bc42369c5629ad1fcba778"
  }
 },
 "nbformat": 4,
 "nbformat_minor": 4
}
